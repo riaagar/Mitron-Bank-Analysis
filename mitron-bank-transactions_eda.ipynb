{
 "cells": [
  {
   "cell_type": "code",
   "execution_count": 1,
   "id": "bfa1db5f",
   "metadata": {
    "_cell_guid": "b1076dfc-b9ad-4769-8c92-a6c4dae69d19",
    "_kg_hide-input": false,
    "_uuid": "8f2839f25d086af736a60e9eeb907d3b93b6e0e5",
    "execution": {
     "iopub.execute_input": "2025-01-03T17:09:35.825384Z",
     "iopub.status.busy": "2025-01-03T17:09:35.824885Z",
     "iopub.status.idle": "2025-01-03T17:09:38.153625Z",
     "shell.execute_reply": "2025-01-03T17:09:38.152199Z"
    },
    "papermill": {
     "duration": 2.339942,
     "end_time": "2025-01-03T17:09:38.156536",
     "exception": false,
     "start_time": "2025-01-03T17:09:35.816594",
     "status": "completed"
    },
    "tags": []
   },
   "outputs": [],
   "source": [
    "import numpy as np\n",
    "import pandas as pd\n",
    "import seaborn as sns\n",
    "import matplotlib.pyplot as plt\n",
    "\n",
    "plt.rcParams[\"figure.figsize\"] = (10, 6)"
   ]
  },
  {
   "cell_type": "code",
   "execution_count": 2,
   "id": "5a5d570c",
   "metadata": {
    "_kg_hide-input": false,
    "execution": {
     "iopub.execute_input": "2025-01-03T17:09:38.175344Z",
     "iopub.status.busy": "2025-01-03T17:09:38.174723Z",
     "iopub.status.idle": "2025-01-03T17:09:40.229919Z",
     "shell.execute_reply": "2025-01-03T17:09:40.227660Z"
    },
    "papermill": {
     "duration": 2.067904,
     "end_time": "2025-01-03T17:09:40.233435",
     "exception": false,
     "start_time": "2025-01-03T17:09:38.165531",
     "status": "completed"
    },
    "tags": []
   },
   "outputs": [],
   "source": [
    "df1=pd.read_csv(\"/kaggle/input/mitron-bank-transactions-dataset/dim_customers.csv\")\n",
    "df2=pd.read_csv(\"/kaggle/input/mitron-bank-transactions-dataset/fact_spends.csv\")"
   ]
  },
  {
   "cell_type": "markdown",
   "id": "edae83bb",
   "metadata": {
    "papermill": {
     "duration": 0.006057,
     "end_time": "2025-01-03T17:09:40.246720",
     "exception": false,
     "start_time": "2025-01-03T17:09:40.240663",
     "status": "completed"
    },
    "tags": []
   },
   "source": [
    "# Data Cleaning"
   ]
  },
  {
   "cell_type": "code",
   "execution_count": 3,
   "id": "f8ea31ab",
   "metadata": {
    "_kg_hide-input": false,
    "_kg_hide-output": false,
    "execution": {
     "iopub.execute_input": "2025-01-03T17:09:40.263006Z",
     "iopub.status.busy": "2025-01-03T17:09:40.262617Z",
     "iopub.status.idle": "2025-01-03T17:09:40.292662Z",
     "shell.execute_reply": "2025-01-03T17:09:40.290993Z"
    },
    "papermill": {
     "duration": 0.040941,
     "end_time": "2025-01-03T17:09:40.295149",
     "exception": false,
     "start_time": "2025-01-03T17:09:40.254208",
     "status": "completed"
    },
    "tags": []
   },
   "outputs": [
    {
     "data": {
      "text/html": [
       "<div>\n",
       "<style scoped>\n",
       "    .dataframe tbody tr th:only-of-type {\n",
       "        vertical-align: middle;\n",
       "    }\n",
       "\n",
       "    .dataframe tbody tr th {\n",
       "        vertical-align: top;\n",
       "    }\n",
       "\n",
       "    .dataframe thead th {\n",
       "        text-align: right;\n",
       "    }\n",
       "</style>\n",
       "<table border=\"1\" class=\"dataframe\">\n",
       "  <thead>\n",
       "    <tr style=\"text-align: right;\">\n",
       "      <th></th>\n",
       "      <th>customer_id</th>\n",
       "      <th>age_group</th>\n",
       "      <th>city</th>\n",
       "      <th>occupation</th>\n",
       "      <th>gender</th>\n",
       "      <th>marital status</th>\n",
       "      <th>avg_income</th>\n",
       "    </tr>\n",
       "  </thead>\n",
       "  <tbody>\n",
       "    <tr>\n",
       "      <th>0</th>\n",
       "      <td>ATQCUS1825</td>\n",
       "      <td>45+</td>\n",
       "      <td>Bengaluru</td>\n",
       "      <td>Salaried IT Employees</td>\n",
       "      <td>Male</td>\n",
       "      <td>Married</td>\n",
       "      <td>73523</td>\n",
       "    </tr>\n",
       "    <tr>\n",
       "      <th>1</th>\n",
       "      <td>ATQCUS0809</td>\n",
       "      <td>25-34</td>\n",
       "      <td>Hyderabad</td>\n",
       "      <td>Salaried Other Employees</td>\n",
       "      <td>Male</td>\n",
       "      <td>Married</td>\n",
       "      <td>39922</td>\n",
       "    </tr>\n",
       "    <tr>\n",
       "      <th>2</th>\n",
       "      <td>ATQCUS0663</td>\n",
       "      <td>25-34</td>\n",
       "      <td>Chennai</td>\n",
       "      <td>Salaried Other Employees</td>\n",
       "      <td>Male</td>\n",
       "      <td>Married</td>\n",
       "      <td>37702</td>\n",
       "    </tr>\n",
       "    <tr>\n",
       "      <th>3</th>\n",
       "      <td>ATQCUS0452</td>\n",
       "      <td>25-34</td>\n",
       "      <td>Delhi NCR</td>\n",
       "      <td>Government Employees</td>\n",
       "      <td>Male</td>\n",
       "      <td>Married</td>\n",
       "      <td>54090</td>\n",
       "    </tr>\n",
       "    <tr>\n",
       "      <th>4</th>\n",
       "      <td>ATQCUS3350</td>\n",
       "      <td>21-24</td>\n",
       "      <td>Bengaluru</td>\n",
       "      <td>Freelancers</td>\n",
       "      <td>Male</td>\n",
       "      <td>Single</td>\n",
       "      <td>28376</td>\n",
       "    </tr>\n",
       "  </tbody>\n",
       "</table>\n",
       "</div>"
      ],
      "text/plain": [
       "  customer_id age_group       city                occupation gender  \\\n",
       "0  ATQCUS1825       45+  Bengaluru     Salaried IT Employees   Male   \n",
       "1  ATQCUS0809     25-34  Hyderabad  Salaried Other Employees   Male   \n",
       "2  ATQCUS0663     25-34    Chennai  Salaried Other Employees   Male   \n",
       "3  ATQCUS0452     25-34  Delhi NCR      Government Employees   Male   \n",
       "4  ATQCUS3350     21-24  Bengaluru               Freelancers   Male   \n",
       "\n",
       "  marital status  avg_income  \n",
       "0        Married       73523  \n",
       "1        Married       39922  \n",
       "2        Married       37702  \n",
       "3        Married       54090  \n",
       "4         Single       28376  "
      ]
     },
     "execution_count": 3,
     "metadata": {},
     "output_type": "execute_result"
    }
   ],
   "source": [
    "df1.head()"
   ]
  },
  {
   "cell_type": "code",
   "execution_count": 4,
   "id": "7eab195b",
   "metadata": {
    "_kg_hide-input": false,
    "_kg_hide-output": false,
    "execution": {
     "iopub.execute_input": "2025-01-03T17:09:40.315702Z",
     "iopub.status.busy": "2025-01-03T17:09:40.315335Z",
     "iopub.status.idle": "2025-01-03T17:09:40.330536Z",
     "shell.execute_reply": "2025-01-03T17:09:40.327923Z"
    },
    "papermill": {
     "duration": 0.030844,
     "end_time": "2025-01-03T17:09:40.333496",
     "exception": false,
     "start_time": "2025-01-03T17:09:40.302652",
     "status": "completed"
    },
    "tags": []
   },
   "outputs": [
    {
     "data": {
      "text/html": [
       "<div>\n",
       "<style scoped>\n",
       "    .dataframe tbody tr th:only-of-type {\n",
       "        vertical-align: middle;\n",
       "    }\n",
       "\n",
       "    .dataframe tbody tr th {\n",
       "        vertical-align: top;\n",
       "    }\n",
       "\n",
       "    .dataframe thead th {\n",
       "        text-align: right;\n",
       "    }\n",
       "</style>\n",
       "<table border=\"1\" class=\"dataframe\">\n",
       "  <thead>\n",
       "    <tr style=\"text-align: right;\">\n",
       "      <th></th>\n",
       "      <th>customer_id</th>\n",
       "      <th>month</th>\n",
       "      <th>category</th>\n",
       "      <th>payment_type</th>\n",
       "      <th>spend</th>\n",
       "    </tr>\n",
       "  </thead>\n",
       "  <tbody>\n",
       "    <tr>\n",
       "      <th>0</th>\n",
       "      <td>ATQCUS1371</td>\n",
       "      <td>July</td>\n",
       "      <td>Health &amp; Wellness</td>\n",
       "      <td>Credit Card</td>\n",
       "      <td>1114</td>\n",
       "    </tr>\n",
       "    <tr>\n",
       "      <th>1</th>\n",
       "      <td>ATQCUS0368</td>\n",
       "      <td>October</td>\n",
       "      <td>Groceries</td>\n",
       "      <td>Credit Card</td>\n",
       "      <td>1466</td>\n",
       "    </tr>\n",
       "    <tr>\n",
       "      <th>2</th>\n",
       "      <td>ATQCUS0595</td>\n",
       "      <td>May</td>\n",
       "      <td>Health &amp; Wellness</td>\n",
       "      <td>Credit Card</td>\n",
       "      <td>387</td>\n",
       "    </tr>\n",
       "    <tr>\n",
       "      <th>3</th>\n",
       "      <td>ATQCUS0667</td>\n",
       "      <td>October</td>\n",
       "      <td>Electronics</td>\n",
       "      <td>Credit Card</td>\n",
       "      <td>1137</td>\n",
       "    </tr>\n",
       "    <tr>\n",
       "      <th>4</th>\n",
       "      <td>ATQCUS3477</td>\n",
       "      <td>September</td>\n",
       "      <td>Bills</td>\n",
       "      <td>UPI</td>\n",
       "      <td>2102</td>\n",
       "    </tr>\n",
       "  </tbody>\n",
       "</table>\n",
       "</div>"
      ],
      "text/plain": [
       "  customer_id      month           category payment_type  spend\n",
       "0  ATQCUS1371       July  Health & Wellness  Credit Card   1114\n",
       "1  ATQCUS0368    October          Groceries  Credit Card   1466\n",
       "2  ATQCUS0595        May  Health & Wellness  Credit Card    387\n",
       "3  ATQCUS0667    October        Electronics  Credit Card   1137\n",
       "4  ATQCUS3477  September              Bills          UPI   2102"
      ]
     },
     "execution_count": 4,
     "metadata": {},
     "output_type": "execute_result"
    }
   ],
   "source": [
    "df2.head()"
   ]
  },
  {
   "cell_type": "code",
   "execution_count": 5,
   "id": "85487aa4",
   "metadata": {
    "_kg_hide-input": false,
    "execution": {
     "iopub.execute_input": "2025-01-03T17:09:40.354241Z",
     "iopub.status.busy": "2025-01-03T17:09:40.353623Z",
     "iopub.status.idle": "2025-01-03T17:09:41.031175Z",
     "shell.execute_reply": "2025-01-03T17:09:41.029058Z"
    },
    "papermill": {
     "duration": 0.692187,
     "end_time": "2025-01-03T17:09:41.034070",
     "exception": false,
     "start_time": "2025-01-03T17:09:40.341883",
     "status": "completed"
    },
    "tags": []
   },
   "outputs": [],
   "source": [
    "df = pd.merge(df1, df2, on='customer_id', how='inner')"
   ]
  },
  {
   "cell_type": "code",
   "execution_count": 6,
   "id": "44aaed48",
   "metadata": {
    "_kg_hide-input": false,
    "_kg_hide-output": false,
    "execution": {
     "iopub.execute_input": "2025-01-03T17:09:41.055515Z",
     "iopub.status.busy": "2025-01-03T17:09:41.055068Z",
     "iopub.status.idle": "2025-01-03T17:09:41.075980Z",
     "shell.execute_reply": "2025-01-03T17:09:41.074680Z"
    },
    "papermill": {
     "duration": 0.034962,
     "end_time": "2025-01-03T17:09:41.078478",
     "exception": false,
     "start_time": "2025-01-03T17:09:41.043516",
     "status": "completed"
    },
    "tags": []
   },
   "outputs": [
    {
     "data": {
      "text/html": [
       "<div>\n",
       "<style scoped>\n",
       "    .dataframe tbody tr th:only-of-type {\n",
       "        vertical-align: middle;\n",
       "    }\n",
       "\n",
       "    .dataframe tbody tr th {\n",
       "        vertical-align: top;\n",
       "    }\n",
       "\n",
       "    .dataframe thead th {\n",
       "        text-align: right;\n",
       "    }\n",
       "</style>\n",
       "<table border=\"1\" class=\"dataframe\">\n",
       "  <thead>\n",
       "    <tr style=\"text-align: right;\">\n",
       "      <th></th>\n",
       "      <th>customer_id</th>\n",
       "      <th>age_group</th>\n",
       "      <th>city</th>\n",
       "      <th>occupation</th>\n",
       "      <th>gender</th>\n",
       "      <th>marital status</th>\n",
       "      <th>avg_income</th>\n",
       "      <th>month</th>\n",
       "      <th>category</th>\n",
       "      <th>payment_type</th>\n",
       "      <th>spend</th>\n",
       "    </tr>\n",
       "  </thead>\n",
       "  <tbody>\n",
       "    <tr>\n",
       "      <th>0</th>\n",
       "      <td>ATQCUS1825</td>\n",
       "      <td>45+</td>\n",
       "      <td>Bengaluru</td>\n",
       "      <td>Salaried IT Employees</td>\n",
       "      <td>Male</td>\n",
       "      <td>Married</td>\n",
       "      <td>73523</td>\n",
       "      <td>May</td>\n",
       "      <td>Electronics</td>\n",
       "      <td>Net Banking</td>\n",
       "      <td>405</td>\n",
       "    </tr>\n",
       "    <tr>\n",
       "      <th>1</th>\n",
       "      <td>ATQCUS1825</td>\n",
       "      <td>45+</td>\n",
       "      <td>Bengaluru</td>\n",
       "      <td>Salaried IT Employees</td>\n",
       "      <td>Male</td>\n",
       "      <td>Married</td>\n",
       "      <td>73523</td>\n",
       "      <td>May</td>\n",
       "      <td>Groceries</td>\n",
       "      <td>Debit Card</td>\n",
       "      <td>1096</td>\n",
       "    </tr>\n",
       "    <tr>\n",
       "      <th>2</th>\n",
       "      <td>ATQCUS1825</td>\n",
       "      <td>45+</td>\n",
       "      <td>Bengaluru</td>\n",
       "      <td>Salaried IT Employees</td>\n",
       "      <td>Male</td>\n",
       "      <td>Married</td>\n",
       "      <td>73523</td>\n",
       "      <td>June</td>\n",
       "      <td>Bills</td>\n",
       "      <td>Credit Card</td>\n",
       "      <td>2765</td>\n",
       "    </tr>\n",
       "    <tr>\n",
       "      <th>3</th>\n",
       "      <td>ATQCUS1825</td>\n",
       "      <td>45+</td>\n",
       "      <td>Bengaluru</td>\n",
       "      <td>Salaried IT Employees</td>\n",
       "      <td>Male</td>\n",
       "      <td>Married</td>\n",
       "      <td>73523</td>\n",
       "      <td>September</td>\n",
       "      <td>Apparel</td>\n",
       "      <td>Debit Card</td>\n",
       "      <td>363</td>\n",
       "    </tr>\n",
       "    <tr>\n",
       "      <th>4</th>\n",
       "      <td>ATQCUS1825</td>\n",
       "      <td>45+</td>\n",
       "      <td>Bengaluru</td>\n",
       "      <td>Salaried IT Employees</td>\n",
       "      <td>Male</td>\n",
       "      <td>Married</td>\n",
       "      <td>73523</td>\n",
       "      <td>May</td>\n",
       "      <td>Food</td>\n",
       "      <td>Debit Card</td>\n",
       "      <td>334</td>\n",
       "    </tr>\n",
       "  </tbody>\n",
       "</table>\n",
       "</div>"
      ],
      "text/plain": [
       "  customer_id age_group       city             occupation gender  \\\n",
       "0  ATQCUS1825       45+  Bengaluru  Salaried IT Employees   Male   \n",
       "1  ATQCUS1825       45+  Bengaluru  Salaried IT Employees   Male   \n",
       "2  ATQCUS1825       45+  Bengaluru  Salaried IT Employees   Male   \n",
       "3  ATQCUS1825       45+  Bengaluru  Salaried IT Employees   Male   \n",
       "4  ATQCUS1825       45+  Bengaluru  Salaried IT Employees   Male   \n",
       "\n",
       "  marital status  avg_income      month     category payment_type  spend  \n",
       "0        Married       73523        May  Electronics  Net Banking    405  \n",
       "1        Married       73523        May    Groceries   Debit Card   1096  \n",
       "2        Married       73523       June        Bills  Credit Card   2765  \n",
       "3        Married       73523  September      Apparel   Debit Card    363  \n",
       "4        Married       73523        May         Food   Debit Card    334  "
      ]
     },
     "execution_count": 6,
     "metadata": {},
     "output_type": "execute_result"
    }
   ],
   "source": [
    "df.head()"
   ]
  },
  {
   "cell_type": "code",
   "execution_count": 7,
   "id": "9118fb72",
   "metadata": {
    "_kg_hide-input": false,
    "execution": {
     "iopub.execute_input": "2025-01-03T17:09:41.097624Z",
     "iopub.status.busy": "2025-01-03T17:09:41.097260Z",
     "iopub.status.idle": "2025-01-03T17:09:41.105038Z",
     "shell.execute_reply": "2025-01-03T17:09:41.103422Z"
    },
    "papermill": {
     "duration": 0.020388,
     "end_time": "2025-01-03T17:09:41.107918",
     "exception": false,
     "start_time": "2025-01-03T17:09:41.087530",
     "status": "completed"
    },
    "tags": []
   },
   "outputs": [
    {
     "data": {
      "text/plain": [
       "(864000, 11)"
      ]
     },
     "execution_count": 7,
     "metadata": {},
     "output_type": "execute_result"
    }
   ],
   "source": [
    "df.shape"
   ]
  },
  {
   "cell_type": "code",
   "execution_count": 8,
   "id": "02bc07c8",
   "metadata": {
    "_kg_hide-input": false,
    "_kg_hide-output": false,
    "execution": {
     "iopub.execute_input": "2025-01-03T17:09:41.125385Z",
     "iopub.status.busy": "2025-01-03T17:09:41.124587Z",
     "iopub.status.idle": "2025-01-03T17:09:41.542138Z",
     "shell.execute_reply": "2025-01-03T17:09:41.540634Z"
    },
    "papermill": {
     "duration": 0.428992,
     "end_time": "2025-01-03T17:09:41.544658",
     "exception": false,
     "start_time": "2025-01-03T17:09:41.115666",
     "status": "completed"
    },
    "tags": []
   },
   "outputs": [
    {
     "data": {
      "text/plain": [
       "customer_id       0\n",
       "age_group         0\n",
       "city              0\n",
       "occupation        0\n",
       "gender            0\n",
       "marital status    0\n",
       "avg_income        0\n",
       "month             0\n",
       "category          0\n",
       "payment_type      0\n",
       "spend             0\n",
       "dtype: int64"
      ]
     },
     "execution_count": 8,
     "metadata": {},
     "output_type": "execute_result"
    }
   ],
   "source": [
    "df.isna().sum()"
   ]
  },
  {
   "cell_type": "code",
   "execution_count": 9,
   "id": "47527c57",
   "metadata": {
    "_kg_hide-input": false,
    "_kg_hide-output": false,
    "execution": {
     "iopub.execute_input": "2025-01-03T17:09:41.563070Z",
     "iopub.status.busy": "2025-01-03T17:09:41.562633Z",
     "iopub.status.idle": "2025-01-03T17:09:41.572340Z",
     "shell.execute_reply": "2025-01-03T17:09:41.570872Z"
    },
    "papermill": {
     "duration": 0.021006,
     "end_time": "2025-01-03T17:09:41.574751",
     "exception": false,
     "start_time": "2025-01-03T17:09:41.553745",
     "status": "completed"
    },
    "tags": []
   },
   "outputs": [
    {
     "data": {
      "text/plain": [
       "customer_id       object\n",
       "age_group         object\n",
       "city              object\n",
       "occupation        object\n",
       "gender            object\n",
       "marital status    object\n",
       "avg_income         int64\n",
       "month             object\n",
       "category          object\n",
       "payment_type      object\n",
       "spend              int64\n",
       "dtype: object"
      ]
     },
     "execution_count": 9,
     "metadata": {},
     "output_type": "execute_result"
    }
   ],
   "source": [
    "df.dtypes"
   ]
  },
  {
   "cell_type": "markdown",
   "id": "ba71a47d",
   "metadata": {
    "papermill": {
     "duration": 0.007949,
     "end_time": "2025-01-03T17:09:41.590861",
     "exception": false,
     "start_time": "2025-01-03T17:09:41.582912",
     "status": "completed"
    },
    "tags": []
   },
   "source": [
    "# EDA"
   ]
  },
  {
   "cell_type": "markdown",
   "id": "dc871d23",
   "metadata": {
    "papermill": {
     "duration": 0.007946,
     "end_time": "2025-01-03T17:09:41.606619",
     "exception": false,
     "start_time": "2025-01-03T17:09:41.598673",
     "status": "completed"
    },
    "tags": []
   },
   "source": [
    "### Average spending based on gender"
   ]
  },
  {
   "cell_type": "code",
   "execution_count": 10,
   "id": "863cba74",
   "metadata": {
    "_kg_hide-input": false,
    "_kg_hide-output": false,
    "execution": {
     "iopub.execute_input": "2025-01-03T17:09:41.629360Z",
     "iopub.status.busy": "2025-01-03T17:09:41.628666Z",
     "iopub.status.idle": "2025-01-03T17:09:41.798668Z",
     "shell.execute_reply": "2025-01-03T17:09:41.796735Z"
    },
    "papermill": {
     "duration": 0.183289,
     "end_time": "2025-01-03T17:09:41.801288",
     "exception": false,
     "start_time": "2025-01-03T17:09:41.617999",
     "status": "completed"
    },
    "tags": []
   },
   "outputs": [
    {
     "data": {
      "text/html": [
       "<div>\n",
       "<style scoped>\n",
       "    .dataframe tbody tr th:only-of-type {\n",
       "        vertical-align: middle;\n",
       "    }\n",
       "\n",
       "    .dataframe tbody tr th {\n",
       "        vertical-align: top;\n",
       "    }\n",
       "\n",
       "    .dataframe thead th {\n",
       "        text-align: right;\n",
       "    }\n",
       "</style>\n",
       "<table border=\"1\" class=\"dataframe\">\n",
       "  <thead>\n",
       "    <tr style=\"text-align: right;\">\n",
       "      <th></th>\n",
       "      <th>gender</th>\n",
       "      <th>marital status</th>\n",
       "      <th>spend</th>\n",
       "    </tr>\n",
       "  </thead>\n",
       "  <tbody>\n",
       "    <tr>\n",
       "      <th>0</th>\n",
       "      <td>Female</td>\n",
       "      <td>Married</td>\n",
       "      <td>590.224423</td>\n",
       "    </tr>\n",
       "    <tr>\n",
       "      <th>1</th>\n",
       "      <td>Female</td>\n",
       "      <td>Single</td>\n",
       "      <td>501.678631</td>\n",
       "    </tr>\n",
       "    <tr>\n",
       "      <th>2</th>\n",
       "      <td>Male</td>\n",
       "      <td>Married</td>\n",
       "      <td>657.876539</td>\n",
       "    </tr>\n",
       "    <tr>\n",
       "      <th>3</th>\n",
       "      <td>Male</td>\n",
       "      <td>Single</td>\n",
       "      <td>565.600937</td>\n",
       "    </tr>\n",
       "  </tbody>\n",
       "</table>\n",
       "</div>"
      ],
      "text/plain": [
       "   gender marital status       spend\n",
       "0  Female        Married  590.224423\n",
       "1  Female         Single  501.678631\n",
       "2    Male        Married  657.876539\n",
       "3    Male         Single  565.600937"
      ]
     },
     "execution_count": 10,
     "metadata": {},
     "output_type": "execute_result"
    }
   ],
   "source": [
    "\n",
    "result_1=df.groupby(by=[\"gender\",\"marital status\"])[\"spend\"].mean()\n",
    "result_1=result_1.reset_index()\n",
    "result_1"
   ]
  },
  {
   "cell_type": "code",
   "execution_count": 11,
   "id": "1b6d11f1",
   "metadata": {
    "execution": {
     "iopub.execute_input": "2025-01-03T17:09:41.818963Z",
     "iopub.status.busy": "2025-01-03T17:09:41.818577Z",
     "iopub.status.idle": "2025-01-03T17:09:42.200623Z",
     "shell.execute_reply": "2025-01-03T17:09:42.199430Z"
    },
    "papermill": {
     "duration": 0.394259,
     "end_time": "2025-01-03T17:09:42.203333",
     "exception": false,
     "start_time": "2025-01-03T17:09:41.809074",
     "status": "completed"
    },
    "tags": []
   },
   "outputs": [
    {
     "data": {
      "image/png": "[encoded data removed]",
      "text/plain": [
       "<Figure size 1000x600 with 1 Axes>"
      ]
     },
     "metadata": {},
     "output_type": "display_data"
    }
   ],
   "source": [
    "sns.barplot(x=result_1[\"gender\"],y=result_1[\"spend\"],hue=result_1[\"marital status\"])\n",
    "plt.ylabel(\"Avg amount spend\")\n",
    "plt.xlabel(\"Gender\")\n",
    "plt.title(\"Avg amount spend vs gender,marital status\")\n",
    "plt.show()"
   ]
  },
  {
   "cell_type": "markdown",
   "id": "dd2f956c",
   "metadata": {
    "papermill": {
     "duration": 0.015064,
     "end_time": "2025-01-03T17:09:42.232108",
     "exception": false,
     "start_time": "2025-01-03T17:09:42.217044",
     "status": "completed"
    },
    "tags": []
   },
   "source": [
    "### Occupation vs average spending"
   ]
  },
  {
   "cell_type": "code",
   "execution_count": 12,
   "id": "913a55a9",
   "metadata": {
    "execution": {
     "iopub.execute_input": "2025-01-03T17:09:42.253177Z",
     "iopub.status.busy": "2025-01-03T17:09:42.252754Z",
     "iopub.status.idle": "2025-01-03T17:09:42.351231Z",
     "shell.execute_reply": "2025-01-03T17:09:42.349437Z"
    },
    "papermill": {
     "duration": 0.11312,
     "end_time": "2025-01-03T17:09:42.354451",
     "exception": false,
     "start_time": "2025-01-03T17:09:42.241331",
     "status": "completed"
    },
    "tags": []
   },
   "outputs": [
    {
     "data": {
      "text/plain": [
       "occupation\n",
       "Salaried IT Employees       871.974297\n",
       "Business Owners             646.713029\n",
       "Salaried Other Employees    453.691707\n",
       "Freelancers                 446.066220\n",
       "Government Employees        419.131370\n",
       "Name: spend, dtype: float64"
      ]
     },
     "execution_count": 12,
     "metadata": {},
     "output_type": "execute_result"
    }
   ],
   "source": [
    "\n",
    "result_3=df.groupby(\"occupation\")[\"spend\"].mean().sort_values(ascending=False)\n",
    "\n",
    "result_3"
   ]
  },
  {
   "cell_type": "code",
   "execution_count": 13,
   "id": "13d83984",
   "metadata": {
    "execution": {
     "iopub.execute_input": "2025-01-03T17:09:42.390047Z",
     "iopub.status.busy": "2025-01-03T17:09:42.389664Z",
     "iopub.status.idle": "2025-01-03T17:09:42.654454Z",
     "shell.execute_reply": "2025-01-03T17:09:42.653172Z"
    },
    "papermill": {
     "duration": 0.283857,
     "end_time": "2025-01-03T17:09:42.656515",
     "exception": false,
     "start_time": "2025-01-03T17:09:42.372658",
     "status": "completed"
    },
    "tags": []
   },
   "outputs": [
    {
     "data": {
      "image/png": "[encoded data removed]",
      "text/plain": [
       "<Figure size 1000x600 with 1 Axes>"
      ]
     },
     "metadata": {},
     "output_type": "display_data"
    }
   ],
   "source": [
    "sns.barplot(x=result_3.values,y=result_3.index)\n",
    "plt.xlabel(\"average spening\")\n",
    "plt.ylabel(\"occupation\")\n",
    "plt.title(\"occupation vs average spending\")\n",
    "plt.show()"
   ]
  },
  {
   "cell_type": "markdown",
   "id": "f8abb06c",
   "metadata": {
    "papermill": {
     "duration": 0.009899,
     "end_time": "2025-01-03T17:09:42.676007",
     "exception": false,
     "start_time": "2025-01-03T17:09:42.666108",
     "status": "completed"
    },
    "tags": []
   },
   "source": [
    "### Where do people spend their money the most"
   ]
  },
  {
   "cell_type": "code",
   "execution_count": 14,
   "id": "8a81b1db",
   "metadata": {
    "_kg_hide-input": true,
    "_kg_hide-output": false,
    "execution": {
     "iopub.execute_input": "2025-01-03T17:09:42.696655Z",
     "iopub.status.busy": "2025-01-03T17:09:42.696282Z",
     "iopub.status.idle": "2025-01-03T17:09:42.770419Z",
     "shell.execute_reply": "2025-01-03T17:09:42.768017Z"
    },
    "papermill": {
     "duration": 0.087779,
     "end_time": "2025-01-03T17:09:42.772528",
     "exception": false,
     "start_time": "2025-01-03T17:09:42.684749",
     "status": "completed"
    },
    "tags": []
   },
   "outputs": [
    {
     "data": {
      "text/plain": [
       "category\n",
       "Bills                104912768\n",
       "Groceries             86303761\n",
       "Electronics           79562220\n",
       "Health & Wellness     65599867\n",
       "Travel                59223324\n",
       "Food                  44013470\n",
       "Entertainment         41289162\n",
       "Apparel               34036001\n",
       "Others                15957182\n",
       "Name: spend, dtype: int64"
      ]
     },
     "execution_count": 14,
     "metadata": {},
     "output_type": "execute_result"
    }
   ],
   "source": [
    "\n",
    "result_4=df.groupby(\"category\")[\"spend\"].sum().sort_values(ascending=False)\n",
    "result_4"
   ]
  },
  {
   "cell_type": "code",
   "execution_count": 15,
   "id": "6062ea75",
   "metadata": {
    "_kg_hide-input": true,
    "execution": {
     "iopub.execute_input": "2025-01-03T17:09:42.793550Z",
     "iopub.status.busy": "2025-01-03T17:09:42.793111Z",
     "iopub.status.idle": "2025-01-03T17:09:43.108693Z",
     "shell.execute_reply": "2025-01-03T17:09:43.107228Z"
    },
    "papermill": {
     "duration": 0.329586,
     "end_time": "2025-01-03T17:09:43.111483",
     "exception": false,
     "start_time": "2025-01-03T17:09:42.781897",
     "status": "completed"
    },
    "tags": []
   },
   "outputs": [
    {
     "data": {
      "image/png": "[encoded data removed]",
      "text/plain": [
       "<Figure size 1000x600 with 1 Axes>"
      ]
     },
     "metadata": {},
     "output_type": "display_data"
    }
   ],
   "source": [
    "plt.pie(result_4.values,labels=result_4.index,autopct='%1.1f%%')\n",
    "plt.title(\"category wise spending\")\n",
    "plt.show()"
   ]
  },
  {
   "cell_type": "markdown",
   "id": "12f2944a",
   "metadata": {
    "papermill": {
     "duration": 0.011343,
     "end_time": "2025-01-03T17:09:43.133160",
     "exception": false,
     "start_time": "2025-01-03T17:09:43.121817",
     "status": "completed"
    },
    "tags": []
   },
   "source": [
    "### Which age group contributes to major spending"
   ]
  },
  {
   "cell_type": "code",
   "execution_count": 16,
   "id": "165d8f5c",
   "metadata": {
    "execution": {
     "iopub.execute_input": "2025-01-03T17:09:43.156842Z",
     "iopub.status.busy": "2025-01-03T17:09:43.156459Z",
     "iopub.status.idle": "2025-01-03T17:09:43.214313Z",
     "shell.execute_reply": "2025-01-03T17:09:43.213096Z"
    },
    "papermill": {
     "duration": 0.072049,
     "end_time": "2025-01-03T17:09:43.216034",
     "exception": false,
     "start_time": "2025-01-03T17:09:43.143985",
     "status": "completed"
    },
    "tags": []
   },
   "outputs": [
    {
     "data": {
      "text/plain": [
       "age_group\n",
       "25-34    203357184\n",
       "35-45    190639828\n",
       "21-24     68523077\n",
       "45+       68377666\n",
       "Name: spend, dtype: int64"
      ]
     },
     "execution_count": 16,
     "metadata": {},
     "output_type": "execute_result"
    }
   ],
   "source": [
    "\n",
    "result_5=df.groupby(\"age_group\")[\"spend\"].sum().sort_values(ascending=False)\n",
    "result_5"
   ]
  },
  {
   "cell_type": "code",
   "execution_count": 17,
   "id": "396fd3ff",
   "metadata": {
    "execution": {
     "iopub.execute_input": "2025-01-03T17:09:43.238356Z",
     "iopub.status.busy": "2025-01-03T17:09:43.237881Z",
     "iopub.status.idle": "2025-01-03T17:09:43.402080Z",
     "shell.execute_reply": "2025-01-03T17:09:43.400453Z"
    },
    "papermill": {
     "duration": 0.178617,
     "end_time": "2025-01-03T17:09:43.405213",
     "exception": false,
     "start_time": "2025-01-03T17:09:43.226596",
     "status": "completed"
    },
    "tags": []
   },
   "outputs": [
    {
     "data": {
      "image/png": "[encoded data removed]",
      "text/plain": [
       "<Figure size 1000x600 with 1 Axes>"
      ]
     },
     "metadata": {},
     "output_type": "display_data"
    }
   ],
   "source": [
    "plt.pie(result_5.values,labels=result_5.index,autopct='%1.1f%%')\n",
    "plt.title(\"age group wise spending\")\n",
    "plt.show()"
   ]
  },
  {
   "cell_type": "markdown",
   "id": "cb2656df",
   "metadata": {
    "papermill": {
     "duration": 0.015842,
     "end_time": "2025-01-03T17:09:43.452478",
     "exception": false,
     "start_time": "2025-01-03T17:09:43.436636",
     "status": "completed"
    },
    "tags": []
   },
   "source": [
    "### Which city has the highest average spending"
   ]
  },
  {
   "cell_type": "code",
   "execution_count": 18,
   "id": "eeb27e6f",
   "metadata": {
    "execution": {
     "iopub.execute_input": "2025-01-03T17:09:43.478181Z",
     "iopub.status.busy": "2025-01-03T17:09:43.477460Z",
     "iopub.status.idle": "2025-01-03T17:09:43.546417Z",
     "shell.execute_reply": "2025-01-03T17:09:43.544941Z"
    },
    "papermill": {
     "duration": 0.083523,
     "end_time": "2025-01-03T17:09:43.548786",
     "exception": false,
     "start_time": "2025-01-03T17:09:43.465263",
     "status": "completed"
    },
    "tags": []
   },
   "outputs": [
    {
     "data": {
      "text/plain": [
       "city\n",
       "Mumbai       738.844581\n",
       "Delhi NCR    693.508307\n",
       "Bengaluru    616.573143\n",
       "Hyderabad    527.138959\n",
       "Chennai      443.375905\n",
       "Name: spend, dtype: float64"
      ]
     },
     "execution_count": 18,
     "metadata": {},
     "output_type": "execute_result"
    }
   ],
   "source": [
    "\n",
    "result_6= df.groupby(\"city\")[\"spend\"].mean().sort_values(ascending=False)\n",
    "result_6"
   ]
  },
  {
   "cell_type": "code",
   "execution_count": 19,
   "id": "ee7128a3",
   "metadata": {
    "execution": {
     "iopub.execute_input": "2025-01-03T17:09:43.573552Z",
     "iopub.status.busy": "2025-01-03T17:09:43.573084Z",
     "iopub.status.idle": "2025-01-03T17:09:43.870745Z",
     "shell.execute_reply": "2025-01-03T17:09:43.869235Z"
    },
    "papermill": {
     "duration": 0.312396,
     "end_time": "2025-01-03T17:09:43.872679",
     "exception": false,
     "start_time": "2025-01-03T17:09:43.560283",
     "status": "completed"
    },
    "tags": []
   },
   "outputs": [
    {
     "data": {
      "image/png": "[encoded data removed]",
      "text/plain": [
       "<Figure size 1000x600 with 1 Axes>"
      ]
     },
     "metadata": {},
     "output_type": "display_data"
    }
   ],
   "source": [
    "sns.barplot(x=result_6.values,y=result_6.index)\n",
    "plt.xlabel(\"average spend\")\n",
    "plt.ylabel(\"city\")\n",
    "plt.title(\"city vs average spending\")\n",
    "plt.show()"
   ]
  },
  {
   "cell_type": "markdown",
   "id": "d4652426",
   "metadata": {
    "papermill": {
     "duration": 0.011461,
     "end_time": "2025-01-03T17:09:43.896824",
     "exception": false,
     "start_time": "2025-01-03T17:09:43.885363",
     "status": "completed"
    },
    "tags": []
   },
   "source": [
    "### City on the basis of income utilization percentage"
   ]
  },
  {
   "cell_type": "code",
   "execution_count": 20,
   "id": "f163a678",
   "metadata": {
    "execution": {
     "iopub.execute_input": "2025-01-03T17:09:43.925763Z",
     "iopub.status.busy": "2025-01-03T17:09:43.925400Z",
     "iopub.status.idle": "2025-01-03T17:09:43.989977Z",
     "shell.execute_reply": "2025-01-03T17:09:43.988890Z"
    },
    "papermill": {
     "duration": 0.082859,
     "end_time": "2025-01-03T17:09:43.992178",
     "exception": false,
     "start_time": "2025-01-03T17:09:43.909319",
     "status": "completed"
    },
    "tags": []
   },
   "outputs": [],
   "source": [
    "\n",
    "city_income=df1.groupby(\"city\")[\"avg_income\"].sum()\n",
    "city_spending=df.groupby(\"city\")[\"spend\"].sum()\n",
    "\n",
    "city_income = city_income.reset_index()\n",
    "city_spending = city_spending.reset_index()\n",
    "\n",
    "merged_df = pd.merge(city_income, city_spending, on='city', how='inner')\n",
    "merged_df[\"income utilization\"]=merged_df[\"spend\"]*100/merged_df[\"avg_income\"]\n",
    "merged_df=merged_df.sort_values(by='income utilization',ascending=False)"
   ]
  },
  {
   "cell_type": "code",
   "execution_count": 21,
   "id": "b0a9b267",
   "metadata": {
    "execution": {
     "iopub.execute_input": "2025-01-03T17:09:44.017539Z",
     "iopub.status.busy": "2025-01-03T17:09:44.017146Z",
     "iopub.status.idle": "2025-01-03T17:09:44.300500Z",
     "shell.execute_reply": "2025-01-03T17:09:44.298651Z"
    },
    "papermill": {
     "duration": 0.300429,
     "end_time": "2025-01-03T17:09:44.304083",
     "exception": false,
     "start_time": "2025-01-03T17:09:44.003654",
     "status": "completed"
    },
    "tags": []
   },
   "outputs": [
    {
     "data": {
      "image/png": "[encoded data removed]",
      "text/plain": [
       "<Figure size 1000x600 with 1 Axes>"
      ]
     },
     "metadata": {},
     "output_type": "display_data"
    }
   ],
   "source": [
    "sns.barplot(x=merged_df[\"city\"],y=merged_df[\"income utilization\"])\n",
    "plt.show()"
   ]
  },
  {
   "cell_type": "markdown",
   "id": "7fac78ad",
   "metadata": {
    "papermill": {
     "duration": 0.018199,
     "end_time": "2025-01-03T17:09:44.338939",
     "exception": false,
     "start_time": "2025-01-03T17:09:44.320740",
     "status": "completed"
    },
    "tags": []
   },
   "source": [
    "### Occupation on the basis of income utilization percentage"
   ]
  },
  {
   "cell_type": "code",
   "execution_count": 22,
   "id": "82d8f527",
   "metadata": {
    "execution": {
     "iopub.execute_input": "2025-01-03T17:09:44.372417Z",
     "iopub.status.busy": "2025-01-03T17:09:44.371949Z",
     "iopub.status.idle": "2025-01-03T17:09:44.462652Z",
     "shell.execute_reply": "2025-01-03T17:09:44.460601Z"
    },
    "papermill": {
     "duration": 0.111014,
     "end_time": "2025-01-03T17:09:44.465344",
     "exception": false,
     "start_time": "2025-01-03T17:09:44.354330",
     "status": "completed"
    },
    "tags": []
   },
   "outputs": [
    {
     "data": {
      "text/html": [
       "<div>\n",
       "<style scoped>\n",
       "    .dataframe tbody tr th:only-of-type {\n",
       "        vertical-align: middle;\n",
       "    }\n",
       "\n",
       "    .dataframe tbody tr th {\n",
       "        vertical-align: top;\n",
       "    }\n",
       "\n",
       "    .dataframe thead th {\n",
       "        text-align: right;\n",
       "    }\n",
       "</style>\n",
       "<table border=\"1\" class=\"dataframe\">\n",
       "  <thead>\n",
       "    <tr style=\"text-align: right;\">\n",
       "      <th></th>\n",
       "      <th>occupation</th>\n",
       "      <th>avg_income</th>\n",
       "      <th>spend</th>\n",
       "      <th>income utilization</th>\n",
       "    </tr>\n",
       "  </thead>\n",
       "  <tbody>\n",
       "    <tr>\n",
       "      <th>0</th>\n",
       "      <td>Business Owners</td>\n",
       "      <td>44157443</td>\n",
       "      <td>88004709</td>\n",
       "      <td>199.297566</td>\n",
       "    </tr>\n",
       "    <tr>\n",
       "      <th>1</th>\n",
       "      <td>Freelancers</td>\n",
       "      <td>27485671</td>\n",
       "      <td>75538638</td>\n",
       "      <td>274.829157</td>\n",
       "    </tr>\n",
       "    <tr>\n",
       "      <th>2</th>\n",
       "      <td>Government Employees</td>\n",
       "      <td>20761899</td>\n",
       "      <td>36122418</td>\n",
       "      <td>173.984172</td>\n",
       "    </tr>\n",
       "    <tr>\n",
       "      <th>3</th>\n",
       "      <td>Salaried IT Employees</td>\n",
       "      <td>79580577</td>\n",
       "      <td>243720304</td>\n",
       "      <td>306.256015</td>\n",
       "    </tr>\n",
       "    <tr>\n",
       "      <th>4</th>\n",
       "      <td>Salaried Other Employees</td>\n",
       "      <td>34642539</td>\n",
       "      <td>87511686</td>\n",
       "      <td>252.613372</td>\n",
       "    </tr>\n",
       "  </tbody>\n",
       "</table>\n",
       "</div>"
      ],
      "text/plain": [
       "                 occupation  avg_income      spend  income utilization\n",
       "0           Business Owners    44157443   88004709          199.297566\n",
       "1               Freelancers    27485671   75538638          274.829157\n",
       "2      Government Employees    20761899   36122418          173.984172\n",
       "3     Salaried IT Employees    79580577  243720304          306.256015\n",
       "4  Salaried Other Employees    34642539   87511686          252.613372"
      ]
     },
     "execution_count": 22,
     "metadata": {},
     "output_type": "execute_result"
    }
   ],
   "source": [
    "\n",
    "\n",
    "occupation_income=df1.groupby(\"occupation\")[\"avg_income\"].sum()\n",
    "occupation_spending=df.groupby(\"occupation\")[\"spend\"].sum()\n",
    "\n",
    "occupation_income=occupation_income.reset_index()\n",
    "occupation_spending=occupation_spending.reset_index()\n",
    "\n",
    "merged_df=pd.merge(occupation_income,occupation_spending,on=\"occupation\",how=\"inner\")\n",
    "merged_df[\"income utilization\"]=merged_df[\"spend\"]*100/merged_df[\"avg_income\"]\n",
    "merged_df\n"
   ]
  },
  {
   "cell_type": "code",
   "execution_count": 23,
   "id": "a16c5f5f",
   "metadata": {
    "execution": {
     "iopub.execute_input": "2025-01-03T17:09:44.492367Z",
     "iopub.status.busy": "2025-01-03T17:09:44.491882Z",
     "iopub.status.idle": "2025-01-03T17:09:44.749404Z",
     "shell.execute_reply": "2025-01-03T17:09:44.747965Z"
    },
    "papermill": {
     "duration": 0.27435,
     "end_time": "2025-01-03T17:09:44.752236",
     "exception": false,
     "start_time": "2025-01-03T17:09:44.477886",
     "status": "completed"
    },
    "tags": []
   },
   "outputs": [
    {
     "data": {
      "image/png": "[encoded data removed]",
      "text/plain": [
       "<Figure size 1000x600 with 1 Axes>"
      ]
     },
     "metadata": {},
     "output_type": "display_data"
    }
   ],
   "source": [
    "sns.barplot(x=merged_df[\"occupation\"],y=merged_df[\"income utilization\"])\n",
    "plt.show()"
   ]
  },
  {
   "cell_type": "markdown",
   "id": "3c5bfe4b",
   "metadata": {
    "papermill": {
     "duration": 0.013679,
     "end_time": "2025-01-03T17:09:44.779783",
     "exception": false,
     "start_time": "2025-01-03T17:09:44.766104",
     "status": "completed"
    },
    "tags": []
   },
   "source": [
    "# Inferences"
   ]
  },
  {
   "cell_type": "markdown",
   "id": "086179ff",
   "metadata": {
    "papermill": {
     "duration": 0.012952,
     "end_time": "2025-01-03T17:09:44.805411",
     "exception": false,
     "start_time": "2025-01-03T17:09:44.792459",
     "status": "completed"
    },
    "tags": []
   },
   "source": [
    "* On an average married males spend higher than others.\n",
    "* Salaried IT employees spend most of their income and government employees spend least of their income.\n",
    "* Bills,groceries and electronics contribute approx 51% of the total spending.\n",
    "* People between 25 to 35 years spends most as compared to other age groups.\n",
    "* People living in Mumbai spends more as compared to other cities.\n",
    "* Mumbai has highest income utilization percentage.abs\n",
    "* Salaried IT employees has the highest income utilization percentage.\n",
    "   "
   ]
  }
 ],
 "metadata": {
  "kaggle": {
   "accelerator": "none",
   "dataSources": [
    {
     "datasetId": 6419831,
     "sourceId": 10365109,
     "sourceType": "datasetVersion"
    }
   ],
   "dockerImageVersionId": 30822,
   "isGpuEnabled": false,
   "isInternetEnabled": false,
   "language": "python",
   "sourceType": "notebook"
  },
  "kernelspec": {
   "display_name": "Python 3",
   "language": "python",
   "name": "python3"
  },
  "language_info": {
   "codemirror_mode": {
    "name": "ipython",
    "version": 3
   },
   "file_extension": ".py",
   "mimetype": "text/x-python",
   "name": "python",
   "nbconvert_exporter": "python",
   "pygments_lexer": "ipython3",
   "version": "3.10.12"
  },
  "papermill": {
   "default_parameters": {},
   "duration": 12.400686,
   "end_time": "2025-01-03T17:09:45.642929",
   "environment_variables": {},
   "exception": null,
   "input_path": "__notebook__.ipynb",
   "output_path": "__notebook__.ipynb",
   "parameters": {},
   "start_time": "2025-01-03T17:09:33.242243",
   "version": "2.6.0"
  }
 },
 "nbformat": 4,
 "nbformat_minor": 5
}
